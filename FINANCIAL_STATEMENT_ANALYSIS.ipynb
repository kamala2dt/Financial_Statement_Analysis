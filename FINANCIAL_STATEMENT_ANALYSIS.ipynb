{
  "cells": [
    {
      "cell_type": "markdown",
      "metadata": {
        "id": "view-in-github",
        "colab_type": "text"
      },
      "source": [
        "<a href=\"https://colab.research.google.com/github/kamala2dt/Financial_Statement_Analysis/blob/main/FINANCIAL_STATEMENT_ANALYSIS.ipynb\" target=\"_parent\"><img src=\"https://colab.research.google.com/assets/colab-badge.svg\" alt=\"Open In Colab\"/></a>"
      ]
    },
    {
      "cell_type": "markdown",
      "source": [
        "FINANCIAL STATEMENT ANALYSIS\n",
        "\n",
        "Scenario: You are a Data Scientist working for a consulting firm. One of your\n",
        "colleagues from the Auditing department has asked you to help them assess the\n",
        "financial statement of organisation X.\n",
        "You have been supplied with two lists of data: monthly revenue and monthly expenses for the financial year in question. Your task is to calculate the following\n",
        "financial metrics:\n",
        "- profit for each month\n",
        "- profit after tax for each month (the tax rate is 30%)\n",
        "- profit margin for each month - equals to profit after tax divided by revenue\n",
        "- good months - where the profit after tax was greater than the mean for the year\n",
        "- bad months - where the profit after tax was less than the mean for the year\n",
        "- the best month - where the profit after tax was max for the year\n",
        "- the worst month - where the profit after tax was min for the year\n",
        "\n",
        "All results need to be presented as lists.\n",
        "Results for dollar values need to be calculated with $0.01 precision, but need to be\n",
        "presented in Units of $1,000 (i.e. 1k) with no decimal points.\n",
        "Results for the profit margin ratio need to be presented in units of % with no\n",
        "decimal points.\n",
        "Note: Your colleague has warned you that it is okay for tax for any given month to be\n",
        "negative (in accounting terms, negative tax translates into a deferred tax asset).\n",
        "\n"
      ],
      "metadata": {
        "id": "Y__NBJaZK8oH"
      }
    },
    {
      "cell_type": "code",
      "execution_count": null,
      "metadata": {
        "collapsed": true,
        "id": "m_fbdVQGKtfX"
      },
      "outputs": [],
      "source": [
        "#Data \n",
        "revenue = [14574.49, 7606.46, 8611.41, 9175.41, 8058.65, 8105.44, 11496.28, 9766.09, 10305.32, 14379.96, 10713.97, 15433.50]\n",
        "expenses = [12051.82, 5695.07, 12319.20, 12089.72, 8658.57, 840.20, 3285.73, 5821.12, 6976.93, 16618.61, 10054.37, 3803.96]"
      ]
    },
    {
      "cell_type": "code",
      "source": [
        "#Profit for each month\n",
        "\n",
        "profit = list([])\n",
        "for i in range(0,len(revenue)):\n",
        "      profit.append(revenue[i] - expenses[i])\n",
        "print(profit)"
      ],
      "metadata": {
        "colab": {
          "base_uri": "https://localhost:8080/"
        },
        "id": "gIwUdT0iKwss",
        "outputId": "5a5ec2c8-471c-4fb0-8377-048b45f34161"
      },
      "execution_count": null,
      "outputs": [
        {
          "output_type": "stream",
          "name": "stdout",
          "text": [
            "[2522.67, 1911.3900000000003, -3707.790000000001, -2914.3099999999995, -599.9200000000001, 7265.24, 8210.550000000001, 3944.9700000000003, 3328.3899999999994, -2238.6500000000015, 659.5999999999985, 11629.54]\n"
          ]
        }
      ]
    },
    {
      "cell_type": "code",
      "source": [
        "#Calculate tax\n",
        "\n",
        "tax = list([])\n",
        "for i in range(0,len(profit)):\n",
        "    tax.append( round(profit[i] * 0.3 , 2))\n",
        "print(tax)"
      ],
      "metadata": {
        "colab": {
          "base_uri": "https://localhost:8080/"
        },
        "id": "P-awfpOhTXVL",
        "outputId": "e6c89f13-81aa-44fb-de45-64492c1e31a8"
      },
      "execution_count": null,
      "outputs": [
        {
          "output_type": "stream",
          "name": "stdout",
          "text": [
            "[756.8, 573.42, -1112.34, -874.29, -179.98, 2179.57, 2463.17, 1183.49, 998.52, -671.6, 197.88, 3488.86]\n"
          ]
        }
      ]
    },
    {
      "cell_type": "code",
      "source": [
        "#Calculate profit after tax \n",
        "\n",
        "profit_after_tax = list([])\n",
        "for i in range(0,len(profit)):\n",
        "      profit_after_tax.append(profit[i] - tax[i])\n",
        "print(profit_after_tax)"
      ],
      "metadata": {
        "colab": {
          "base_uri": "https://localhost:8080/"
        },
        "id": "d93dxIYaKxBh",
        "outputId": "0f3f7299-ca0e-476d-dda2-6448ca6e983f"
      },
      "execution_count": null,
      "outputs": [
        {
          "output_type": "stream",
          "name": "stdout",
          "text": [
            "[1765.8700000000001, 1337.9700000000003, -2595.4500000000007, -2040.0199999999995, -419.94000000000005, 5085.67, 5747.380000000001, 2761.4800000000005, 2329.8699999999994, -1567.0500000000015, 461.71999999999855, 8140.68]\n"
          ]
        }
      ]
    },
    {
      "cell_type": "code",
      "source": [
        "#Calculate profit margin\n",
        "\n",
        "profit_margin = list([])\n",
        "for i in range(0,len(revenue)):\n",
        "    profit_margin.append(profit_after_tax[i] / revenue[i])\n",
        "\n",
        "#Get % by multiply by 100 and round to decimal\n",
        "for j in range(0,len(profit_margin)):\n",
        "    profit_margin[j] = round(profit_margin[j] * 100 , 2)\n",
        "print(profit_margin)"
      ],
      "metadata": {
        "colab": {
          "base_uri": "https://localhost:8080/"
        },
        "id": "KPGtCfSOLTWl",
        "outputId": "9d13e35e-0486-4433-fdf4-4df071e31823"
      },
      "execution_count": null,
      "outputs": [
        {
          "output_type": "stream",
          "name": "stdout",
          "text": [
            "[12.12, 17.59, -30.14, -22.23, -5.21, 62.74, 49.99, 28.28, 22.61, -10.9, 4.31, 52.75]\n"
          ]
        }
      ]
    },
    {
      "cell_type": "code",
      "source": [
        "#Good months where the profit after tax was greater than the mean for the year\n",
        "\n",
        "mean = sum(profit_after_tax) / len(profit_after_tax)\n",
        "good_months = list([])\n",
        "for i in range(0,len(profit_after_tax)):\n",
        "      good_months.append(profit_after_tax[i] > mean)\n",
        "print(good_months)\n",
        "\n",
        "\n"
      ],
      "metadata": {
        "colab": {
          "base_uri": "https://localhost:8080/"
        },
        "id": "MZ_nQXQXYYCu",
        "outputId": "e44f06ff-eef1-41ad-af74-86731c1c66c8"
      },
      "execution_count": null,
      "outputs": [
        {
          "output_type": "stream",
          "name": "stdout",
          "text": [
            "[True, False, False, False, False, True, True, True, True, False, False, True]\n"
          ]
        }
      ]
    },
    {
      "cell_type": "code",
      "source": [
        "#bad months - where the profit after tax was less than the mean for the year\n",
        "#bad months are the opposite of good months\n",
        "\n",
        "bad_months = list([])\n",
        "for i in range(0,len(profit_after_tax)):\n",
        "    bad_months.append(not(good_months[i]))\n",
        "print(bad_months)"
      ],
      "metadata": {
        "colab": {
          "base_uri": "https://localhost:8080/"
        },
        "id": "GOzIof_7imUL",
        "outputId": "89116a22-e808-4132-8b38-487f989197cb"
      },
      "execution_count": null,
      "outputs": [
        {
          "output_type": "stream",
          "name": "stdout",
          "text": [
            "[False, True, True, True, True, False, False, False, False, True, True, False]\n"
          ]
        }
      ]
    },
    {
      "cell_type": "code",
      "source": [
        "#the best month - where the profit after tax was max for the year\n",
        "\n",
        "best_month = list([])\n",
        "for i in range (0, len(profit_after_tax)):\n",
        "    best_month.append(profit_after_tax[i] == max(profit_after_tax))\n",
        "print(best_month)"
      ],
      "metadata": {
        "colab": {
          "base_uri": "https://localhost:8080/"
        },
        "id": "j0tucJTXk2Nw",
        "outputId": "2516e527-9da8-46f0-8adc-76d76f9b45d8"
      },
      "execution_count": null,
      "outputs": [
        {
          "output_type": "stream",
          "name": "stdout",
          "text": [
            "[False, False, False, False, False, False, False, False, False, False, False, True]\n"
          ]
        }
      ]
    },
    {
      "cell_type": "code",
      "source": [
        "#the worst month - where the profit after tax was min for the year\n",
        "\n",
        "worst_month = list([])\n",
        "for i in range (0, len(profit_after_tax)):\n",
        "    worst_month.append(profit_after_tax[i] == min(profit_after_tax))\n",
        "print(worst_month)"
      ],
      "metadata": {
        "colab": {
          "base_uri": "https://localhost:8080/"
        },
        "id": "tjAxnFvDljyJ",
        "outputId": "47304dd9-80aa-407e-e7b3-c9843d4f20fd"
      },
      "execution_count": null,
      "outputs": [
        {
          "output_type": "stream",
          "name": "stdout",
          "text": [
            "[False, False, True, False, False, False, False, False, False, False, False, False]\n"
          ]
        }
      ]
    },
    {
      "cell_type": "code",
      "source": [
        "#Convert All Calculations To Units Of One Thousand Dollars\n",
        "revenue_1000 = [round(i / 1000, 2) for i in revenue]\n",
        "expenses_1000 = [round(i / 1000, 2) for i in expenses]\n",
        "profit_1000 = [round(i / 1000, 2) for i in profit]\n",
        "profit_after_tax_1000 = [round(i / 1000, 2) for i in profit_after_tax]\n",
        "\n",
        "revenue_1000 = [int(i) for i in revenue_1000]\n",
        "expenses_1000 = [int(i) for i in expenses_1000]\n",
        "profit_1000 = [int(i) for i in profit_1000]\n",
        "profit_after_tax_1000 = [int(i) for i in profit_after_tax_1000]"
      ],
      "metadata": {
        "id": "cKeXRkhYnIfz"
      },
      "execution_count": null,
      "outputs": []
    },
    {
      "cell_type": "code",
      "source": [
        "#Print Results\n",
        "print (\"Revenue :\") \n",
        "print (revenue_1000)\n",
        "print (\"Expenses :\") \n",
        "print (expenses_1000)\n",
        "print (\"Profit :\")\n",
        "print(profit_1000)\n",
        "print (\"Profit after tax :\")\n",
        "print (profit_after_tax_1000)\n",
        "print (\"Profit margin :\")\n",
        "print (profit_margin)\n",
        "print (\"Good months :\")\n",
        "print (good_months)\n",
        "print (\"Bad months :\")\n",
        "print (bad_months)\n",
        "print (\"Best month :\")\n",
        "print (best_month)\n",
        "print (\"Worst month :\")\n",
        "print (worst_month)"
      ],
      "metadata": {
        "colab": {
          "base_uri": "https://localhost:8080/"
        },
        "id": "p_YfFU4TnONo",
        "outputId": "acd49c6f-100d-45f6-cd05-7ee851c45406"
      },
      "execution_count": null,
      "outputs": [
        {
          "output_type": "stream",
          "name": "stdout",
          "text": [
            "Revenue :\n",
            "[14, 7, 8, 9, 8, 8, 11, 9, 10, 14, 10, 15]\n",
            "Expenses :\n",
            "[12, 5, 12, 12, 8, 0, 3, 5, 6, 16, 10, 3]\n",
            "Profit :\n",
            "[2, 1, -3, -2, 0, 7, 8, 3, 3, -2, 0, 11]\n",
            "Profit after tax :\n",
            "[1, 1, -2, -2, 0, 5, 5, 2, 2, -1, 0, 8]\n",
            "Profit margin :\n",
            "[12.12, 17.59, -30.14, -22.23, -5.21, 62.74, 49.99, 28.28, 22.61, -10.9, 4.31, 52.75]\n",
            "Good months :\n",
            "[True, False, False, False, False, True, True, True, True, False, False, True]\n",
            "Bad months :\n",
            "[False, True, True, True, True, False, False, False, False, True, True, False]\n",
            "Best month :\n",
            "[False, False, False, False, False, False, False, False, False, False, False, True]\n",
            "Worst month :\n",
            "[False, False, True, False, False, False, False, False, False, False, False, False]\n"
          ]
        }
      ]
    },
    {
      "cell_type": "code",
      "source": [],
      "metadata": {
        "id": "BKFTPxOpp4Xe"
      },
      "execution_count": null,
      "outputs": []
    }
  ],
  "metadata": {
    "kernelspec": {
      "display_name": "Python [conda root]",
      "language": "python",
      "name": "conda-root-py"
    },
    "language_info": {
      "codemirror_mode": {
        "name": "ipython",
        "version": 3
      },
      "file_extension": ".py",
      "mimetype": "text/x-python",
      "name": "python",
      "nbconvert_exporter": "python",
      "pygments_lexer": "ipython3",
      "version": "3.5.2"
    },
    "colab": {
      "provenance": [],
      "include_colab_link": true
    }
  },
  "nbformat": 4,
  "nbformat_minor": 0
}